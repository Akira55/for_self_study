{
 "cells": [
  {
   "cell_type": "markdown",
   "metadata": {},
   "source": [
    "### 正規分布のCDFを返す関数"
   ]
  },
  {
   "cell_type": "markdown",
   "metadata": {},
   "source": [
    "### 求解方法\n",
    "\n",
    "複数の根をもつ方程式の複数の根を求める関数はpythonには無い。\n",
    "\n",
    "３本方程式で求める方法はnewton法の実装を使うのが一番近い。\n",
    "\n",
    "解の探索範囲は$[0,1]$なので、適当にグリッドを区切って解を探す。\n",
    "\n",
    "誤差を小さくすれば、複数の解があるとなっても、解析的な解と一致する"
   ]
  },
  {
   "cell_type": "markdown",
   "metadata": {
    "collapsed": true
   },
   "source": [
    "### Fig1aのコードの再利用\n",
    "\n",
    "Fig1aのコードを再利用する。\n",
    "Rを正規分布のmeanとして扱う。\n",
    "scleに何らかの値が入れば、閾値が分布する場合になるようにする。"
   ]
  },
  {
   "cell_type": "code",
   "execution_count": 171,
   "metadata": {},
   "outputs": [],
   "source": [
    "\n",
    "from scipy.special import comb\n",
    "from scipy.special import factorial\n",
    "from scipy.stats import norm\n",
    "import numpy as np\n",
    "from numba import jit, int32, float32\n",
    "\n",
    "@jit#(float32(float32, float32, float32, int32, NoneType))\n",
    "def g(k, q, R, last=False, scale = 0.2, diff = 0):\n",
    "    '''\n",
    "        if scale is not None, threshold is treated as a random variables.\n",
    "        In that case, `R`and `scale` are parameters of normal distribution, where\n",
    "        R is mean and scale is deviation.\n",
    "    '''\n",
    "    m_array = np.arange(0., k + 1, 1) #from 0 to k\n",
    "    comb_k_m = comb(k, m_array)\n",
    "    if(scale == None): threshold_array =  (m_array/k) > R\n",
    "    else: threshold_array = norm(R, scale).cdf(m_array/k)\n",
    "    if(diff == 0): X = comb_k_m * (q**m_array)*((1-q)**(k-m_array))\n",
    "    if(diff == 1): X = comb_k_m * q**(m_array-1)*(-q+1)**(k-m_array-2)*(-k*q+m_array+q)\n",
    "    elif(diff == 2): X = (-q**(m_array-2)*(1-q)**(k-m_array-3)) *(-k**2*q**2+2*k*m_array*q+3*k*q**2-m_array**2-4*m_array*q+m_array-2*q**2)\n",
    "    return(np.sum(X * threshold_array))\n",
    "    \n",
    "@jit#(float32(float32, float32, float32, int32, int32))\n",
    "def G(q, R, z, k_max=20, last=False, scale = 0.2, diff = 0):\n",
    "    k_array = np.arange(1.0, k_max + 1, 1) # from 1 to k_max\n",
    "    k_array = np.linspace(1, k_max + 1, 10)\n",
    "    pk = np.exp(-z)*(z**k_array)/factorial(k_array)\n",
    "    if(not last): pk = pk*(k_array/z)   \n",
    "    for i, k in enumerate(k_array):\n",
    "        pk[i] = pk[i]*g(k, q, R, last, scale, diff)\n",
    "    return(np.sum(pk))\n"
   ]
  },
  {
   "cell_type": "markdown",
   "metadata": {},
   "source": [
    "### 1~2階微分の式を定義しておく"
   ]
  },
  {
   "cell_type": "code",
   "execution_count": 172,
   "metadata": {
    "collapsed": true
   },
   "outputs": [],
   "source": [
    "f = lambda q, R, z: -q + G(q, R, z)\n",
    "fd = lambda q, R, z: -1 + G(q, R, z,diff = 1)\n",
    "fdd = lambda q, R, z: G(q, R, z, diff = 2)"
   ]
  },
  {
   "cell_type": "markdown",
   "metadata": {},
   "source": [
    "### 計算とプロット\n",
    "\n",
    "- Newton法を用いて計算する。複数解がある場合は、初期値を適当に設定すれば近い根に到達する。\n",
    "\n",
    "Newton法がうまく行かなかったので、`scipy`の`scipy.optimize.fsolve`を試す。"
   ]
  },
  {
   "cell_type": "code",
   "execution_count": 177,
   "metadata": {},
   "outputs": [
    {
     "ename": "ValueError",
     "evalue": "object of too small depth for desired array",
     "output_type": "error",
     "traceback": [
      "\u001b[0;31m---------------------------------------------------------------------------\u001b[0m",
      "\u001b[0;31mValueError\u001b[0m                                Traceback (most recent call last)",
      "\u001b[0;31mValueError\u001b[0m: object of too small depth for desired array"
     ]
    },
    {
     "ename": "error",
     "evalue": "Result from function call is not a proper array of floats.",
     "output_type": "error",
     "traceback": [
      "\u001b[0;31m---------------------------------------------------------------------------\u001b[0m",
      "\u001b[0;31merror\u001b[0m                                     Traceback (most recent call last)",
      "\u001b[0;32m<ipython-input-177-9073132a7703>\u001b[0m in \u001b[0;36m<module>\u001b[0;34m()\u001b[0m\n\u001b[1;32m     17\u001b[0m             \u001b[0manswer3\u001b[0m\u001b[0;34m[\u001b[0m\u001b[0mi\u001b[0m\u001b[0;34m]\u001b[0m \u001b[0;34m=\u001b[0m \u001b[0moptimize\u001b[0m\u001b[0;34m.\u001b[0m\u001b[0mnewton\u001b[0m\u001b[0;34m(\u001b[0m\u001b[0mf\u001b[0m\u001b[0;34m,\u001b[0m \u001b[0mx0\u001b[0m\u001b[0;34m=\u001b[0m\u001b[0;36m0.1\u001b[0m\u001b[0;34m,\u001b[0m \u001b[0margs\u001b[0m\u001b[0;34m=\u001b[0m\u001b[0;34m(\u001b[0m\u001b[0mR\u001b[0m\u001b[0;34m,\u001b[0m \u001b[0mz\u001b[0m\u001b[0;34m)\u001b[0m\u001b[0;34m,\u001b[0m \u001b[0mfprime\u001b[0m\u001b[0;34m=\u001b[0m\u001b[0mfd\u001b[0m\u001b[0;34m,\u001b[0m \u001b[0mfprime2\u001b[0m\u001b[0;34m=\u001b[0m\u001b[0mfdd\u001b[0m\u001b[0;34m)\u001b[0m\u001b[0;34m\u001b[0m\u001b[0m\n\u001b[1;32m     18\u001b[0m             '''\n\u001b[0;32m---> 19\u001b[0;31m             \u001b[0manswer1\u001b[0m\u001b[0;34m[\u001b[0m\u001b[0mi\u001b[0m\u001b[0;34m]\u001b[0m \u001b[0;34m=\u001b[0m \u001b[0mfsolve\u001b[0m\u001b[0;34m(\u001b[0m\u001b[0mf\u001b[0m\u001b[0;34m,\u001b[0m \u001b[0mx0\u001b[0m\u001b[0;34m=\u001b[0m\u001b[0;36m0.5\u001b[0m\u001b[0;34m,\u001b[0m \u001b[0margs\u001b[0m\u001b[0;34m=\u001b[0m\u001b[0;34m(\u001b[0m\u001b[0mR\u001b[0m\u001b[0;34m,\u001b[0m \u001b[0mz\u001b[0m\u001b[0;34m)\u001b[0m\u001b[0;34m,\u001b[0m \u001b[0mfprime\u001b[0m\u001b[0;34m=\u001b[0m\u001b[0mfd\u001b[0m\u001b[0;34m)\u001b[0m\u001b[0;34m\u001b[0m\u001b[0m\n\u001b[0m\u001b[1;32m     20\u001b[0m \u001b[0;34m\u001b[0m\u001b[0m\n\u001b[1;32m     21\u001b[0m     \u001b[0mplt\u001b[0m\u001b[0;34m.\u001b[0m\u001b[0mplot\u001b[0m\u001b[0;34m(\u001b[0m\u001b[0manswer1\u001b[0m\u001b[0;34m,\u001b[0m \u001b[0;34m\"o\"\u001b[0m\u001b[0;34m,\u001b[0m  \u001b[0mlabel\u001b[0m \u001b[0;34m=\u001b[0m \u001b[0;34m\"1 imaginary : \"\u001b[0m \u001b[0;34m+\u001b[0m \u001b[0mstr\u001b[0m\u001b[0;34m(\u001b[0m\u001b[0mR\u001b[0m\u001b[0;34m)\u001b[0m\u001b[0;34m)\u001b[0m\u001b[0;34m\u001b[0m\u001b[0m\n",
      "\u001b[0;32m/Users/akiramatsui/anaconda/lib/python3.6/site-packages/scipy/optimize/minpack.py\u001b[0m in \u001b[0;36mfsolve\u001b[0;34m(func, x0, args, fprime, full_output, col_deriv, xtol, maxfev, band, epsfcn, factor, diag)\u001b[0m\n\u001b[1;32m    144\u001b[0m                'diag': diag}\n\u001b[1;32m    145\u001b[0m \u001b[0;34m\u001b[0m\u001b[0m\n\u001b[0;32m--> 146\u001b[0;31m     \u001b[0mres\u001b[0m \u001b[0;34m=\u001b[0m \u001b[0m_root_hybr\u001b[0m\u001b[0;34m(\u001b[0m\u001b[0mfunc\u001b[0m\u001b[0;34m,\u001b[0m \u001b[0mx0\u001b[0m\u001b[0;34m,\u001b[0m \u001b[0margs\u001b[0m\u001b[0;34m,\u001b[0m \u001b[0mjac\u001b[0m\u001b[0;34m=\u001b[0m\u001b[0mfprime\u001b[0m\u001b[0;34m,\u001b[0m \u001b[0;34m**\u001b[0m\u001b[0moptions\u001b[0m\u001b[0;34m)\u001b[0m\u001b[0;34m\u001b[0m\u001b[0m\n\u001b[0m\u001b[1;32m    147\u001b[0m     \u001b[0;32mif\u001b[0m \u001b[0mfull_output\u001b[0m\u001b[0;34m:\u001b[0m\u001b[0;34m\u001b[0m\u001b[0m\n\u001b[1;32m    148\u001b[0m         \u001b[0mx\u001b[0m \u001b[0;34m=\u001b[0m \u001b[0mres\u001b[0m\u001b[0;34m[\u001b[0m\u001b[0;34m'x'\u001b[0m\u001b[0;34m]\u001b[0m\u001b[0;34m\u001b[0m\u001b[0m\n",
      "\u001b[0;32m/Users/akiramatsui/anaconda/lib/python3.6/site-packages/scipy/optimize/minpack.py\u001b[0m in \u001b[0;36m_root_hybr\u001b[0;34m(func, x0, args, jac, col_deriv, xtol, maxfev, band, eps, factor, diag, **unknown_options)\u001b[0m\n\u001b[1;32m    228\u001b[0m             \u001b[0mmaxfev\u001b[0m \u001b[0;34m=\u001b[0m \u001b[0;36m100\u001b[0m \u001b[0;34m*\u001b[0m \u001b[0;34m(\u001b[0m\u001b[0mn\u001b[0m \u001b[0;34m+\u001b[0m \u001b[0;36m1\u001b[0m\u001b[0;34m)\u001b[0m\u001b[0;34m\u001b[0m\u001b[0m\n\u001b[1;32m    229\u001b[0m         retval = _minpack._hybrj(func, Dfun, x0, args, 1,\n\u001b[0;32m--> 230\u001b[0;31m                                  col_deriv, xtol, maxfev, factor, diag)\n\u001b[0m\u001b[1;32m    231\u001b[0m \u001b[0;34m\u001b[0m\u001b[0m\n\u001b[1;32m    232\u001b[0m     \u001b[0mx\u001b[0m\u001b[0;34m,\u001b[0m \u001b[0mstatus\u001b[0m \u001b[0;34m=\u001b[0m \u001b[0mretval\u001b[0m\u001b[0;34m[\u001b[0m\u001b[0;36m0\u001b[0m\u001b[0;34m]\u001b[0m\u001b[0;34m,\u001b[0m \u001b[0mretval\u001b[0m\u001b[0;34m[\u001b[0m\u001b[0;34m-\u001b[0m\u001b[0;36m1\u001b[0m\u001b[0;34m]\u001b[0m\u001b[0;34m\u001b[0m\u001b[0m\n",
      "\u001b[0;31merror\u001b[0m: Result from function call is not a proper array of floats."
     ]
    }
   ],
   "source": [
    "# %matplotlib inline\n",
    "import matplotlib.pyplot as plt\n",
    "import numpy as np\n",
    "from scipy import optimize\n",
    "from matplotlib.font_manager import FontProperties\n",
    "\n",
    "N = 11 #grid size\n",
    "thresholds = [0.35, 0.37, 0.375]\n",
    "for R in thresholds:\n",
    "    answer1 = np.zeros(N)\n",
    "    answer2 = np.zeros(N)\n",
    "    answer3 = np.zeros(N)                          \n",
    "    for i,  z in enumerate(np.linspace(1, 10, N)):\n",
    "            '''\n",
    "            answer1[i] = optimize.newton(f, x0=0.5, args=(R, z), fprime=fd, fprime2=fdd)\n",
    "            answer2[i] = optimize.newton(f, x0=0.15, args=(R, z), fprime=fd, fprime2=fdd)\n",
    "            answer3[i] = optimize.newton(f, x0=0.1, args=(R, z), fprime=fd, fprime2=fdd)\n",
    "            '''\n",
    "            answer1[i] = fsolve(f, x0=0.5, args=(R, z))\n",
    "        \n",
    "    plt.plot(answer1, \"o\",  label = \"1 imaginary : \" + str(R))\n",
    "    #plt.plot(answer2, \"o\",  label = \"2\")\n",
    "    #plt.plot(answer3, \"o\",  label = \"3\")\n",
    "    print(answer1)\n",
    "    #print(answer2)\n",
    "    #print(answer3)\n",
    "    plt.legend(bbox_to_anchor=(1.05, 1), loc=2, borderaxespad=0.)\n",
    "    plt.show()\n",
    "    plt.clf()"
   ]
  }
 ],
 "metadata": {
  "kernelspec": {
   "display_name": "Python 3",
   "language": "python",
   "name": "python3"
  },
  "language_info": {
   "codemirror_mode": {
    "name": "ipython",
    "version": 3
   },
   "file_extension": ".py",
   "mimetype": "text/x-python",
   "name": "python",
   "nbconvert_exporter": "python",
   "pygments_lexer": "ipython3",
   "version": "3.6.1"
  }
 },
 "nbformat": 4,
 "nbformat_minor": 2
}
