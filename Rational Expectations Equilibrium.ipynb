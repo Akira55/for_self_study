{
 "cells": [
  {
   "cell_type": "markdown",
   "metadata": {},
   "source": [
    "## Overview "
   ]
  },
  {
   "cell_type": "markdown",
   "metadata": {},
   "source": [
    "- 合理的期待均衡モデルを勉強する\n",
    "\n",
    "\n",
    "- Lucas and Prescott[LP71]　を用いる\n",
    "    - linear quadaricバージョンを扱う\n",
    "    - この論文は合理的期待均衡革命をもたらしたことで有名\n",
    "    - DPで計算できるように設定されている\n",
    "    - 需給がLQで設定されているためにLQ programmingの手法を用いることができる\n",
    "\n",
    "\n",
    "\n",
    "\n",
    "- この章では、\n",
    "    - 代表的個人とplannerの問題がどのように異なっているか\n",
    "    - planning problemがどのように合理的期待に基いて解かれるのか\n",
    "    - 認識（perceived）された経済変動と実際の経済変動の写像の不動点として合理的期待均衡が特徴づけられること\n",
    "    - 合理的期待均衡とはどのようなものなのか\n",
    "    - マクロ経済学研究で用いられる“Big $K$, little $k$”というテクニック\n",
    "\n",
    "\n",
    "を学ぶ\n",
    "\n",
    "Except that for us\n",
    "\n",
    "Instead of “Big $K$” it will be “Big $Y$“\n",
    "\n",
    "\n",
    "Instead of “little $k$” it will be “little $y$“\n",
    "\n",
    "\n",
    "#### (law of motionを動学として訳しましたが経済変動として訳す方良いようです)"
   ]
  },
  {
   "cell_type": "markdown",
   "metadata": {},
   "source": [
    "## The Big $Y$, little $y$ trick"
   ]
  },
  {
   "cell_type": "markdown",
   "metadata": {},
   "source": [
    "このテクニックは、完全競争下の代表的企業やプライステイカーといった形で良く用いられている。\n",
    "\n",
    "以下ような仮定を課す、\n",
    "\n",
    "- 代表的企業や代表的個人は aggregate $Y$ を所与として自身の$y$を選択する\n",
    "- 期末には、$Y=y$になっている、なぜなら代表的企業は代表的だから\n",
    "\n",
    "この、“Big $K$, little $k$”テクニックによって\n",
    "\n",
    "- $y$を主体が選択するときは$Y$を操作できないものとする、しかし\n",
    "- 最適化問題を解いた後に、$Y=y$とする\n",
    "\n",
    "ことが可能になる。"
   ]
  },
  {
   "cell_type": "markdown",
   "metadata": {},
   "source": [
    "### A simple static example of the Big $Y$, little $y$ trick"
   ]
  },
  {
   "cell_type": "markdown",
   "metadata": {},
   "source": [
    "- 完全競争化で同質なn企業が存在する\n",
    "\n",
    "- 各企業は生産$y$を売る\n",
    "\n",
    "\n",
    "価格$p$は逆需要関数で決まる、\n",
    "\n",
    "\\begin{equation}\n",
    "p = a_0 - a_1 Y\n",
    "\\end{equation}\n",
    "\n",
    "ただし、$a_i>0, i=1,2$かつ、$Y$は$Y=ny$で決まる。\n",
    "\n",
    "\n",
    "各企業の総費用関数は、\n",
    "\n",
    "\\begin{equation}\n",
    "\\begin{split}c(y) = c_1 y + 0.5 c_2 y^2,\n",
    "\\qquad c_i > 0 \\text{ for } i = 1,2\\end{split}\n",
    "\\end{equation}\n",
    "\n",
    "なので、代表的企業の利潤は$ py−c(y)$\n",
    "\n",
    "代表的企業の最大化問題は、\n",
    "\n",
    "\\begin{equation}\n",
    "\\max_{y} \\Bigl[ (a_0 - a_1 Y) y - c_1 y - 0.5 c_2 y^2 \\Bigr]\n",
    "\\end{equation}\n",
    "\n",
    "- 【y生産した時の総売上】ー【y生産することの総費用】\n",
    "\n",
    "このモデルでは、企業はプライステイカーであって欲しい。\n",
    "\n",
    "$p$を所与とすることで、プライステイカーの仮定を課す。(?)\n",
    "そうすることで、$Y$が外生的に決まる。(?)\n",
    "\n",
    "Big $K$, little $k$”テクニックの本質は、『(最適な$y$を決める)最適化問題の１階条件を求める前に、$Y=ny$とはしない』ことである。\n",
    "\n",
    "\n",
    "→『最適な$y$の１階条件を求める』⇛『$Y=ny$とする』こと\n",
    "\n",
    "こうすることで、企業がプライステイカーであると仮定することができる。\n",
    "\n",
    "１階条件は、\n",
    "\n",
    "\\begin{equation}\n",
    "a_0 - a_1 Y - c_1 - c_2 y = 0\n",
    "\\end{equation}\n",
    "\n",
    "$Y=ny$を用いて、この式を\n",
    "\n",
    "\\begin{equation}\n",
    "a_0 - c_1 - (a_1 + n^{-1} c_2) Y = 0\n",
    "\\end{equation}\n",
    "\n",
    "に書き換える。得られた$Y$を利用して競争均衡の$p$を逆需要関数から得る。"
   ]
  },
  {
   "cell_type": "markdown",
   "metadata": {
    "collapsed": true
   },
   "source": [
    "## Defining Rational Expectations Equilibrium "
   ]
  },
  {
   "cell_type": "markdown",
   "metadata": {},
   "source": [
    "最初の合理的期待均衡の例として、n企業が存在する経済で、各企業がadjustment costを考慮して利潤の現在価値を最大化する問題を考える。\n",
    "\n",
    "adjustment constを考慮する企業は適応的な調整（gradual adjustment）をするインセンティブを持つので、将来の価格を考える必要がでてくる。\n",
    "\n",
    "個別の企業は、他の企業からの供給をもとに逆需要関数に従って価格が決まっていることを知っている。\n",
    "\n",
    "なので（inter temporal な意思決定をする必要がある、adjustment cost を考慮する場合は）、各企業は将来の総供給を予想する必要がある。\n",
    "\n",
    "この章では、総供給（the aggregate state）の変動法則についての信念に基いて予想が行われる。\n",
    "\n",
    "合理的期待は信念と実際の生産選択の経済変動が一致するとき実現する（prevail）。\n",
    "\n",
    "そして、この生産選択そのものも信念によって生成される。\n",
    "\n",
    "信念から最適な信念への写像の不動点として合理的期待を定義する。"
   ]
  },
  {
   "cell_type": "markdown",
   "metadata": {},
   "source": [
    "## Competitive Equilibrium with Adjustment Costs"
   ]
  },
  {
   "cell_type": "markdown",
   "metadata": {},
   "source": [
    "n企業が競争市場で同質な財を売る場合を考える。各企業$n$は生産$y_t$を売る。\n",
    "\n",
    "価格は以下の逆需要関数で決まる。\n",
    "\n",
    "\\begin{equation}\n",
    "p_t = a_0 - a_1 Y_t\n",
    "\\end{equation}\n",
    "\n",
    "ただし、$a_i>0, i=1,2$かつ、$Y_t$は$Y_t=ny_t$で決まる市場の生産量。"
   ]
  },
  {
   "cell_type": "markdown",
   "metadata": {},
   "source": [
    "### The Firm’s Problem\n",
    "\n",
    "企業はプライステイカー。不確実性が無い時、adjustment costsに直面している。\n",
    "\n",
    "具体的には、\n",
    "\n",
    "\\begin{equation}\n",
    "\\sum_{t=0}^\\infty \\beta^t r_t\n",
    "\\end{equation}\n",
    "を\n",
    "\n",
    "\\begin{equation}\n",
    "r_t := p_t y_t - \\frac{ \\gamma (y_{t+1} - y_t )^2 }{2},\n",
    "\\qquad  y_0 \\text{ given}\n",
    "\\end{equation}\n",
    "\n",
    "の制約のもとで最大化する。\n",
    "\n",
    "パラメタ$\\beta\\in(0,1)$は割引率で、$\\gamma > 0$は生産に対するadjustment costの割合。\n",
    "\n",
    "$y_{t+1}$は、$p_t$と$y_t$を観察した後に$t$期に決められる。\n",
    "\n",
    "\n",
    "最大化問題を完全に定義するためには、状態変数の動学を特定化しなくてはならない。以降でこれを行う。"
   ]
  },
  {
   "cell_type": "markdown",
   "metadata": {},
   "source": [
    "### Prices and Aggregate Output"
   ]
  },
  {
   "cell_type": "markdown",
   "metadata": {},
   "source": [
    "逆需要関数\n",
    "\n",
    "\\begin{equation}\n",
    "p_t = a_0 - a_1 Y_t\n",
    "\\end{equation}\n",
    "\n",
    "を考えれば、\n",
    "\n",
    "【市場価格$p_t$を予想する】=>【総生産$Y_t$を予想する】\n",
    "\n",
    "と言い換えることができる。\n",
    "\n",
    "総生産は、他の企業の意思決定によって決まる。\n",
    "\n",
    "企業の数$n$が大きな数なので、1企業の生産の変更は総生産に影響しないと仮定する（⇔プライステイカー？）。\n",
    "\n",
    "この仮定によって、自分の生産の意思決定が、総生産に関する予想に影響しないと考えることができる。\n",
    "\n",
    "つまり、\n",
    "\n",
    "【自分の生産の意思決定】---->【総生産に関する予想】\n",
    "\n",
    "の方向は考えなくていい。\n",
    "\n"
   ]
  },
  {
   "cell_type": "markdown",
   "metadata": {},
   "source": [
    "### The Firm’s Beliefs"
   ]
  },
  {
   "cell_type": "markdown",
   "metadata": {
    "collapsed": true
   },
   "source": [
    "企業が$Y_t$の動学について、\n",
    "\n",
    "\\begin{equation}\n",
    "Y_{t+1} =  H(Y_t)\n",
    "\\end{equation}\n",
    "\n",
    "という動きをするという信念をもっていると仮定する。ただし、$Y_0$は初期値である。\n",
    "ここで信念関数$H$はequilibrium objectであり、均衡で決められるものである。\n",
    "\n",
    "→均衡で$H$が定まる。"
   ]
  },
  {
   "cell_type": "markdown",
   "metadata": {},
   "source": [
    "### Optimal Behavior Given Beliefs"
   ]
  },
  {
   "cell_type": "markdown",
   "metadata": {},
   "source": [
    "以下では$H$を所与として議論する。\n",
    "\n",
    "$v$を最適なvalue functionとする。\n",
    "\n",
    "このvalue functionは以下のベルマン方程式を満たす。\n",
    "\n",
    "\n",
    "\\begin{equation}\n",
    "v(y,Y) = \\max_{y'} \\left\\{ a_0 y - a_1 y Y - \\frac{ \\gamma (y' - y)^2}{2}   + \\beta v(y', H(Y))\\right\\}\n",
    "\\end{equation}\n",
    "\n",
    "企業の最適なpolicy function $h$を\n",
    "\n",
    "\\begin{equation}\n",
    "y_{t+1} = h(y_t, Y_t)\n",
    "\\end{equation}\n",
    "とする。ただし、\n",
    "\\begin{equation}\n",
    "h(y, Y) := argmax_{y'}\\left\\{ a_0 y - a_1 y Y - \\frac{ \\gamma (y' - y)^2}{2}   + \\beta v(y', H(Y))\\right\\}\n",
    "\\end{equation}\n",
    "である。\n",
    "\n",
    "$v$も$h$も$H$に依存している。"
   ]
  },
  {
   "cell_type": "markdown",
   "metadata": {},
   "source": [
    "### First-Order Characterization of $h$"
   ]
  },
  {
   "cell_type": "markdown",
   "metadata": {},
   "source": [
    "以下では、$h$を１階条件で特徴付ける。\n",
    "\n",
    "$y'$に関する１階条件\n",
    "\n",
    "\\begin{equation}\n",
    "- \\gamma (y' - y) + \\beta v_y(y',H(Y)) =0\n",
    "\\end{equation}\n",
    "\n",
    "包絡線定理より、$v_y(y,Y)$は\n",
    "\n",
    "\\begin{equation}\n",
    "v_y(y,Y) = a_0 - a_1 Y + \\gamma (y' - y)\n",
    "\\end{equation}\n",
    "\n",
    "である。これを、１階条件にいれると、\n",
    "\n",
    "\\begin{equation}\n",
    "-\\gamma (y_{t+1} - y_t) + \\beta [a_0 - a_1 Y_{t+1} + \\gamma (y_{t+2} - y_{t+1} )] =0\n",
    "\\end{equation}\n",
    "\n",
    "であり、これはオイラー方程式。\n",
    "\n",
    "企業は、$H$を所与としてこの１階条件を満たすように、\n",
    "\n",
    "- 初期値　($y_0$, $Y_0$)\n",
    "- 終端条件（横断性条件、TVC）　$\\lim_{t \\rightarrow \\infty } \\beta^t y_t v_y(y_{t}, Y_t) = 0$\n",
    "\n",
    "を制約として生産を選択する。\n",
    "\n",
    "ベルマン方程式を$v$, $h$について解くことで、自動的にオイラー方程式と横断性条件が得られる。"
   ]
  },
  {
   "cell_type": "markdown",
   "metadata": {},
   "source": [
    "### The Actual Law of Motion for $Y_t$ "
   ]
  },
  {
   "cell_type": "markdown",
   "metadata": {},
   "source": [
    "先にみたように、所与とした信念は、特定の意思決定ルール$h$(policy function)に変換できる。$Y_t = ny_t$であったことを思い出す。ここで、実際の市場全体での生産の変動は、\n",
    "\n",
    "\\begin{equation}\n",
    "Y_{t+1} = n h(Y_t/n, Y_t)\n",
    "\\end{equation}\n",
    "\n",
    "もし、企業が$Y_{t+1}$が信念$H$に基いて\n",
    "\n",
    "\\begin{equation}\n",
    "Y_{t+1} =  H(Y_t)\n",
    "\\end{equation}\n",
    "\n",
    "と決まると考えているなら、実現する生産の動学も、\n",
    "\n",
    "\\begin{equation}\n",
    "Y_{t+1} = n h(Y_t/n, Y_t)\n",
    "\\end{equation}\n",
    "\n",
    "になる。"
   ]
  },
  {
   "cell_type": "markdown",
   "metadata": {},
   "source": [
    "### Definition of Rational Expectations Equilibrium  "
   ]
  },
  {
   "cell_type": "markdown",
   "metadata": {},
   "source": [
    "adjustment costが入った、意思決定ルールが$h$のモデルでのrational expectations equilibrium (recursive competitive equilibrium)は、\n",
    "\n",
    "- $H$を所与として、$h$が企業の最適なpolicy fuction\n",
    "- $H$が、任意の$Y$について、$H(Y)= nh(Y/n,Y)$を満たす\n",
    "\n",
    "である。\n",
    "\n",
    "人々が認識している経済変動と、実際の経済変動が同じになる均衡が合理的期待均衡である。"
   ]
  },
  {
   "cell_type": "markdown",
   "metadata": {},
   "source": [
    "#### Fixed point characterization"
   ]
  },
  {
   "cell_type": "markdown",
   "metadata": {},
   "source": [
    "いままで見たきたように、企業の最適化問題は認識した経済全体の変動$H$を、実際の変動$\\Phi(H)$に写す写像を導くことである。\n",
    "\n",
    "この写像$\\Phi(H)$は２つの作用素から成り立っている。\n",
    "\n",
    "１つは、認識した経済変動をベルマン方程式に基いて意思決定ルール（policy function）に落とし込む作用素。\n",
    "\n",
    "２つめは、この意思決定ルール（policy function）を実際の経済変動$Y_{t+1} = n h(Y_t/n, Y_t)$に写す作用素である。\n",
    "\n",
    "\n",
    "$H$での合理的期待均衡は$\\Phi$の不動点である。"
   ]
  },
  {
   "cell_type": "markdown",
   "metadata": {},
   "source": [
    "## Computation of an Equilibrium\n",
    "\n",
    "合理的期待均衡のコンピュテーションをする。"
   ]
  },
  {
   "cell_type": "markdown",
   "metadata": {},
   "source": [
    "### Misbehavior of $\\Phi$ "
   ]
  },
  {
   "cell_type": "markdown",
   "metadata": {},
   "source": [
    "適当にgussした初期の変動$H_0$をイテレーションして問題を解くことはできない。なぜなら、$\\Phi$は縮小写像でないから。つまり、直接的に$\\Phi$をイテレーションしていっても収束するとは限らない。\n",
    "\n",
    "\n",
    "なので、別の方法を用いる。厚生経済学の定理の均衡とパレート最適(効率的)の関係を利用する。\n",
    "Lucas and Prescott [LP71]はこの方法を使って、合理的期待を構成している。"
   ]
  },
  {
   "cell_type": "markdown",
   "metadata": {},
   "source": [
    "### A Planning Problem Approach "
   ]
  },
  {
   "cell_type": "markdown",
   "metadata": {},
   "source": [
    "アプローチの方法としては、市場規模（集計）のオイラー方程式と各個人の選択を同じにする方法を取る。これはLQ controlを用いて解くことができる。\n",
    "\n",
    "この計画問題から得られる最適な（生産）量は、合理的期待均衡における（生産）量である。そして、合理的期待均衡における価格は計画問題におけるシャドウプライスである。\n",
    "\n",
    "以下では、簡単化のため$n=1$とする。\n",
    "\n",
    "まず、$t$期の生産者余剰と消費者余剰の合計\n",
    "\n",
    "\\begin{equation}\n",
    "s(Y_t, Y_{t+1})\n",
    ":= \\int_0^{Y_t} (a_0 - a_1 x) \\, dx - \\frac{ \\gamma (Y_{t+1} - Y_t)^2}{2}\n",
    "\\end{equation}\n",
    "\n",
    "右辺の最初の項は需要曲線の下部分。第2項目は、社会（経済）全体でみた生産を変化させた際のコストである。\n",
    "\n",
    "$\\{Y_t\\}$を選ぶ計画問題は、\n",
    "\n",
    "\\begin{equation}\n",
    "\\sum_{t=0}^\\infty \\beta^t s(Y_t, Y_{t+1})\n",
    "\\end{equation}\n",
    "\n",
    "を$Y_0$を初期値として最大化する問題である。"
   ]
  },
  {
   "cell_type": "markdown",
   "metadata": {},
   "source": [
    "### Solution of the Planning Problem "
   ]
  },
  {
   "cell_type": "markdown",
   "metadata": {},
   "source": [
    "$t$期の生産者余剰と消費者余剰の合計\n",
    "\n",
    "\\begin{equation}\n",
    "s(Y_t, Y_{t+1})\n",
    ":= \\int_0^{Y_t} (a_0 - a_1 x) \\, dx - \\frac{ \\gamma (Y_{t+1} - Y_t)^2}{2}\n",
    "\\end{equation}\n",
    "\n",
    "右辺の１項目を解くと２次式$a_0Y_t - a_1 Y_t^2 / 2$が得られる。なので、計画問題のベルマン方程式は、\n",
    "\n",
    "\\begin{equation}\n",
    "V(Y) = \\max_{Y'}\n",
    "\\left\\{a_0  Y - {a_1 \\over 2} Y^2 - \\frac{ \\gamma (Y' - Y)^2}{2} + \\beta V(Y') \\right\\}\n",
    "\\end{equation}\n",
    "\n",
    "になる。\n",
    "\n",
    "１階条件は、\n",
    "\n",
    "\\begin{equation}\n",
    "- \\gamma (Y' - Y) + \\beta V'(Y') = 0\n",
    "\\end{equation}\n",
    "\n",
    "であり、包絡線定理より、\n",
    "\n",
    "\\begin{equation}\n",
    "V'(Y) = a_0 - a_1 Y + \\gamma (Y' - Y)\n",
    "\\end{equation}\n",
    "\n",
    "これを１階条件に入れて、\n",
    "\n",
    "\\begin{equation}\n",
    "\\beta a_0 + \\gamma Y_t - [\\beta a_1 + \\gamma (1+ \\beta)]Y_{t+1} + \\gamma \\beta Y_{t+2} =0\n",
    "\\end{equation}\n",
    "\n",
    "というオイラー方程式を得ることができる。"
   ]
  },
  {
   "cell_type": "markdown",
   "metadata": {},
   "source": [
    "### The Key Insight"
   ]
  },
  {
   "cell_type": "markdown",
   "metadata": {},
   "source": [
    "各個人のオイラー方程式、\n",
    "\n",
    "\\begin{equation}\n",
    "-\\gamma (y_{t+1} - y_t) + \\beta [a_0 - a_1 Y_{t+1} + \\gamma (y_{t+2} - y_{t+1} )] =0\n",
    "\\end{equation}\n",
    "\n",
    "に戻る。ここで、$y_t=Y_t$とする。（$ny_t=Y_t$で、いま$n=1$）。このとき、計画問題のオイラー方程式と各企業のオイラー方程式は同値になる。\n",
    "\n",
    "よって、\n",
    "\n",
    "- 代表的企業のオイラー方程式を導く\n",
    "- それに$Y_t=ny_y$を代入する\n",
    "\n",
    "することで、計画問題のオイラー方程式と代表的企業のオイラー方程式が同じになる。\n",
    "\n",
    "もし、この２つのオイラー方程式の終端条件が同じであれば、計画問題の解が合理的期待均衡に置ける流列であるといえる。\n",
    "\n",
    "なので例えば、計画問題のthe optimal linear regulator problem をつくることで均衡における（生産）量を計算することができる。\n",
    "\n",
    "計画問題のoptimal policyは集計した$H$である。\n",
    "そして、この$H$は合理的期待均衡において、代表的企業が直面するものである。\n",
    "\n",
    "\n",
    "(間違い)そして、$H$は、合理的期待均衡に直面する企業の計画問題におけるoptimal policy を用いて得られる生産量を集計して得られる。"
   ]
  },
  {
   "cell_type": "markdown",
   "metadata": {},
   "source": [
    "### Structure of the Law of Motion"
   ]
  },
  {
   "cell_type": "markdown",
   "metadata": {},
   "source": [
    "演習問題で問われるように、計画問題がLQ問題であるということは、optimal policy（つまり、集計した経済変動）は、\n",
    "\n",
    "\\begin{equation}\n",
    "Y_{t+1}\n",
    "= \\kappa_0 + \\kappa_1 Y_t\n",
    "\\end{equation}\n",
    "\n",
    "\n",
    "という形をとる。ただし、$\\kappa_0, \\kappa_1$はパラメタ。\n",
    "\n",
    "集計した、経済変動が線形であることがわかったので、企業のベルマン方程式はLQ問題として解くことができる。\n",
    "\n",
    "これもまた、演習問題で問われることであるが、企業の最適化問題のLQ formulationは、経済変動が\n",
    "\n",
    "\\begin{equation}\n",
    "y_{t+1} = h_0 + h_1 y_t + h_2 Y_t\n",
    "\\end{equation}\n",
    "\n",
    "ようになることを意味している。よって、合理的期待均衡は、$(\\kappa_0, \\kappa_1, h_0, h_1, h_2)$というパラメタで定義される。\n",
    "\n"
   ]
  },
  {
   "cell_type": "markdown",
   "metadata": {},
   "source": [
    "### 参考文献\n",
    "\n",
    "\n",
    "[DPについて]\n",
    "尾山先生ノート\n",
    "http://www.oyama.e.u-tokyo.ac.jp/econmath15/econmath15dp02.pdf\n",
    "\n",
    "\n",
    "[用語について]\n",
    "武藤さんサーベイ\n",
    "http://www.imes.boj.or.jp/research/papers/japanese/kk27-4-6.pdf\n"
   ]
  },
  {
   "cell_type": "markdown",
   "metadata": {},
   "source": [
    "## Exercises"
   ]
  },
  {
   "cell_type": "markdown",
   "metadata": {},
   "source": [
    "### Exersises 1\n",
    "\n",
    "以下に再掲する企業の最適化問題を考える。\n",
    "\n",
    "\n",
    "企業はプライステイカー。不確実性が無い時、adjustment costsに直面している。\n",
    "\n",
    "具体的には、\n",
    "\n",
    "\\begin{equation}\n",
    "\\sum_{t=0}^\\infty \\beta^t r_t\n",
    "\\end{equation}\n",
    "を\n",
    "\n",
    "\\begin{equation}\n",
    "r_t := p_t y_t - \\frac{ \\gamma (y_{t+1} - y_t )^2 }{2},\n",
    "\\qquad  y_0 \\text{ given}\n",
    "\\end{equation}\n",
    "\n",
    "の制約のもとで最大化する。\n",
    "\n",
    "パラメタ$\\beta\\in(0,1)$は割引率で、$\\gamma > 0$は生産に対するadjustment costの割合。\n",
    "\n",
    "$y_{t+1}$は、$p_t$と$y_t$を観察した後に$t$期に決められる。\n",
    "\n",
    "この時、信念$H$は、以下の(19)式\n",
    "\n",
    "\\begin{equation}\n",
    "Y_{t+1}\n",
    "= \\kappa_0 + \\kappa_1 Y_t\n",
    "\\end{equation}\n",
    "\n",
    "で与えられる。\n",
    "\n",
    "\n",
    "QuantEcon.pyのLQクラスを用いてこの問題を計算しなさい。なお、パラメタは、\n",
    "\n",
    "\n",
    "\\begin{equation}\n",
    "a_0= 100, a_1= 0.05, \\beta = 0.95, \\gamma=10, \\kappa_0 = 95.5, \\kappa_1 = 0.95\n",
    "\\end{equation}\n",
    "\n",
    "\n",
    "\n",
    "レクチャノートの(20)式、すなわち、\n",
    "\n",
    "\\begin{equation}\n",
    "y_{t+1} = h_0 + h_1 y_t + h_2 Y_t\n",
    "\\end{equation}\n",
    "\n",
    "のような形で解答を示し、各$h_j$の値を答えなさい。\n",
    "\n",
    "\n",
    "また、(20)式の最適化問題を持つ$n$の競争企業が存在するとき、(8)式の実際の経済変動はどのような形になるのか。\n"
   ]
  },
  {
   "cell_type": "markdown",
   "metadata": {},
   "source": [
    "### 解答の考え方 "
   ]
  },
  {
   "cell_type": "markdown",
   "metadata": {},
   "source": [
    "\n",
    "企業の最適化問題のベルマン方程式は、\n",
    "\n",
    "\\begin{equation}\n",
    "v(y,Y)=\\max_{y_{t+1}}\\left\\{ a_{0}y_{t}-a_{1}y_{t}Y_{t}-\\frac{\\gamma(y_{t+1}-y_{t})^{2}}{2}+\\beta v(y_{t},H(Y_{t}))\\right\\}\n",
    "\\end{equation}\n",
    "\n",
    "である。\n",
    "\n",
    "\n",
    "コントロール変数を $$\\begin{equation}u_{t}\\equiv y_{t+1}-y_{t}\\end{equation}$$\n",
    "とする。\n",
    "\n",
    "状態変数のベクトルを、 \\begin{equation}x_{t}\\equiv\\left(\\begin{array}{c} y_{t}\\\\ Y_{t}\\\\ 1 \\end{array}\\right)\\end{equation}\n",
    "とする。\n",
    "\n",
    "ここで、LQ問題のquadratic　expressionを用いる。すると、$r_{t}$を最小化問題であることに注意して \\begin{equation}r=-(x_{t}'Rx_{t}+u_{t}'Qu_{t})\\end{equation} とする。この式の行列、$R$と$Q$を考える。\n",
    "\n",
    "\n",
    "レクチャノートより、Rは対称正方行列で非負定値(半正定値)である必要がある。一方、$Q$は対称正方行列で正定値である必要がある。なお、この仮定はゆるくできることが知られている(?)。\n",
    "\n",
    "\n",
    "$R$は正方行列なので、 \\begin{equation}R=\\left(\\begin{array}{ccc} b_{11} & b_{12} & b_{13}\\\\ b_{12} & b_{22} & b_{23}\\\\ b_{13} & b_{23} & b_{33} \\end{array}\\right)\\end{equation}\n",
    "とする。ここで$x_{t}'Rx_{t}$は、 \\begin{equation}-x'Rx_{t}=-(b_{11}y_{t}^{2}+b_{22}Y_{t}^{2}+2b_{12}y_{t}Y_{t}+2b_{13}y_{t}+2b_{23}Y_{t}+b_{33})\\end{equation}\n",
    "である。\n",
    "\n",
    "これと、 \\begin{equation}a_{0}y_{t}-a_{1}y_{t}Y_{t}\\end{equation}\n",
    "の係数を比べると、$R$は \\begin{equation}R=\\left(\\begin{array}{ccc} 0 & \\frac{a_{1}}{2} & -\\frac{1}{2}\\\\ \\frac{a_{1}}{2} & 0 & 0\\\\ -\\frac{1}{2} & 0 & 0 \\end{array}\\right)\\end{equation}\n",
    "となる。$Q$は、 \\begin{equation}Q=\\frac{\\gamma}{2}\\end{equation}\n",
    "である。\n",
    "\n",
    "QuantEcon のLQの章では\n",
    "\n",
    "\\begin{equation}\n",
    "x_t' R x_t + u_t' Q u_t\n",
    "\\end{equation}\n",
    "\n",
    "に関して$R$は、assumed to be $n×n$, symmetric and nonnegative definite　ということになっている。\n",
    "[5式の下](http://lectures.quantecon.org/py/lqcontrol.html#introduction)\n",
    "\n",
    "つまり、任意の非ゼロベクトル$z$に対して、\n",
    "\n",
    "\\begin{equation}\n",
    "z' R z \\geq 0\n",
    "\\end{equation}\n",
    "\n",
    "が成立しなくてはならない。\n",
    "これは、Rが対称行列なので、Rのすべての固有値が非負値であることと同値。\n",
    "\n",
    "しかし、解答のRはこれを満たさない。\n",
    "\n",
    "\n",
    "\n",
    "非負定値性について行列Aが対称行列のとき、「Aが半正定値$\\iff$Aの任意の主小行列式$\\geq0$」を利用する。するとこれが満たされていないことが確認できる。\n",
    "\n",
    "\n",
    "例えば、 \\begin{equation}\\left(\\begin{array}{cc} 0 & \\frac{a_{1}}{2}\\\\ \\frac{a_{1}}{2} & 0 \\end{array}\\right)\\end{equation} の行列式は、$-\\left(\\frac{a_{1}}{2}\\right)^{2}$で負である。\n",
    "\n",
    "\n",
    "つぎに、$x_{t}$の遷移は信念 \\begin{equation}Y_{t+1}=\\kappa_{0}+\\kappa_{1}Y_{t}\\end{equation} によって決められる。\n",
    "\n",
    "遷移を$x_t$と$u_t$で表す。$x_{t+1}$は、 \n",
    "\n",
    "\n",
    "\\begin{align}\n",
    "x_{t+1}=\\left(\\begin{array}{c} y_{t+1}\\\\ Y_{t+1}\\\\ 1 \\end{array}\\right)=\\left(\\begin{array}{c} y_{t+1}\\\\ \\kappa_{0}+\\kappa_{1}Y_{t}\\\\ 1 \\end{array}\\right)=\\left(\\begin{array}{ccc} 1 & 0 & 0\\\\ 0 & \\kappa_{1} & \\kappa_{0}\\\\ 0 & 0 & 1 \\end{array}\\right)\\left(\\begin{array}{c} y_{t}\\\\ Y_{t}\\\\ 1 \\end{array}\\right)+\\left(\\begin{array}{c} 1\\\\ 0\\\\ 0 \\end{array}\\right)(y_{t+1}-y_{t})\n",
    "\\end{align}\n",
    "\n",
    "とできる。\n",
    "\n",
    "\n",
    "ここで \n",
    "\n",
    "\\begin{equation}\n",
    "A\\equiv\\left(\\begin{array}{ccc} 1 & 0 & 0\\\\ 0 & \\kappa_{1} & \\kappa_{0}\\\\ 0 & 0 & 1 \\end{array}\\right),\\ B=\\left(\\begin{array}{c} 1\\\\ 0\\\\ 0 \\end{array}\\right)\n",
    "\\end{equation} \n",
    "\n",
    "とすると\\begin{equation}x_{t+1}=Ax_{t}+Bu_{t}\\end{equation} となる。\n",
    "\n",
    "\n",
    "解は、\n",
    "\\begin{equation}\n",
    "u_{t}=-F_{t}x_{t}\\quad\\text{where}\\quad F_{t}:=(Q+\\beta B'P_{t+1}B)^{-1}\\beta B'P_{t+1}A\n",
    "\\end{equation}\n",
    "の形で与えられる。QuantEconのlibraryを利用すると返り値として$F$を返してくれるのでそれを利用する。\n",
    "\n",
    "$P$はhe solution to the discrete time algebraic Riccati equationである(?)\n",
    "\n",
    "\\begin{equation}F'_{t}=\\left(\\begin{array}{c} c_{0}\\\\ c_{1}\\\\ c_{2} \\end{array}\\right)\\end{equation} とする。\n",
    "\n",
    "\n",
    "すると、 \\begin{equation}\\begin{aligned} u_{t} & = & -F_{t}x_{t}=-(c_{0}y_{t}+c_{1}Y_{t}+c_{2})\\\\ y_{t+1}-y_{t} & = & -(c_{0}y_{t}+c_{1}Y_{t}+c_{3})\\\\ \\implies & y_{t+1} & =(1-c_{0})y_{t}+c_{1}Y_{t}+c_{2}\\end{aligned}\\end{equation}\n",
    "であるので、これと、 \\begin{equation}y_{t+1}=h_{0}+h_{1}y_{t}+h_{2}Y_{t}\\end{equation}\n",
    "の係数を比べて、 \\begin{equation}h_{0}=c_{2},\\ h_{1}=(1-c_{0}),\\ h_{2}=c_{1}\\end{equation}\n",
    "これを利用して解答をつくる。\n"
   ]
  },
  {
   "cell_type": "markdown",
   "metadata": {},
   "source": [
    "### 参考文献\n",
    "\n",
    "\n",
    "[最適レギュレーター(pdf)](http://mech.u-fukui.ac.jp/~Kawa-Lab/lecture/modern/chap5f.pdf)\n",
    "\n",
    "[行列の正定値性(pdf)](http://www.misojiro.t.u-tokyo.ac.jp/~murota/lect-kisosuri/posdefinite070120.pdf)\n",
    "\n",
    "[行列式(主小行列)](http://www.ne.jp/asahi/search-center/internationalrelation/mathWeb/matrixR/PrincipalMinorDef.htm)\n",
    "\n",
    "[lyx -> html -> Markdown](http://ill-identified.hatenablog.com/entry/2015/02/24/230057)\n",
    "\n"
   ]
  },
  {
   "cell_type": "code",
   "execution_count": 4,
   "metadata": {
    "collapsed": false
   },
   "outputs": [
    {
     "name": "stdout",
     "output_type": "stream",
     "text": [
      "F = [-0.000, 0.046, -96.949]\n",
      "(h0, h1, h2) = (96.949, 1.000, -0.046)\n"
     ]
    }
   ],
   "source": [
    "#Solution\n",
    "\n",
    "import numpy as np\n",
    "import matplotlib.pyplot as plt\n",
    "from quantecon import LQ\n",
    "\n",
    "\n",
    "# == Model parameters == #\n",
    "\n",
    "a0      = 100\n",
    "a1      = 0.05\n",
    "beta    = 0.95\n",
    "gamma   = 10.0\n",
    "\n",
    "# == Beliefs == #\n",
    "\n",
    "kappa0  = 95.5\n",
    "kappa1  = 0.95\n",
    "\n",
    "# == Formulate the LQ problem == #\n",
    "\n",
    "A = np.array([[1, 0, 0], [0, kappa1, kappa0], [0, 0, 1]])\n",
    "B = np.array([1, 0, 0])\n",
    "B.shape = 3, 1\n",
    "R = np.array([[0, a1/2, -a0/2], [a1/2, 0, 0], [-a0/2, 0, 0]])\n",
    "Q = 0.5 * gamma\n",
    "\n",
    "# == Solve for the optimal policy == #\n",
    "\n",
    "lq = LQ(Q, R, A, B, beta=beta)\n",
    "P, F, d = lq.stationary_values()\n",
    "F = F.flatten()\n",
    "out1 = \"F = [{0:.3f}, {1:.3f}, {2:.3f}]\".format(F[0], F[1], F[2])\n",
    "h0, h1, h2 = -F[2], 1 - F[0], -F[1]\n",
    "out2 = \"(h0, h1, h2) = ({0:.3f}, {1:.3f}, {2:.3f})\".format(h0, h1, h2)\n",
    "\n",
    "print(out1)\n",
    "print(out2)"
   ]
  },
  {
   "cell_type": "code",
   "execution_count": 19,
   "metadata": {
    "collapsed": false
   },
   "outputs": [
    {
     "name": "stdout",
     "output_type": "stream",
     "text": [
      "固有値：[ 50.00000625 -50.00000625   0.        ]\n"
     ]
    }
   ],
   "source": [
    "##条件を満たしていないのでは\n",
    "\n",
    "R = np.array([[0, a1/2, -a0/2], [a1/2, 0, 0], [-a0/2, 0, 0]])\n",
    "la, v = np.linalg.eig(R)    # 行列Aの固有値・固有ベクト\n",
    "\n",
    "print(u\"固有値：\"+str(la))"
   ]
  },
  {
   "cell_type": "markdown",
   "metadata": {},
   "source": []
  },
  {
   "cell_type": "markdown",
   "metadata": {
    "collapsed": false
   },
   "source": [
    "### Exercise 2\n",
    "\n",
    "信念$H$関数である(19)式\n",
    "\n",
    "\\begin{equation}\n",
    "Y_{t+1}\n",
    "= \\kappa_0 + \\kappa_1 Y_t\n",
    "\\end{equation}\n",
    "\n",
    "\n",
    "以下の３つの$\\kappa_0, \\kappa_1$ 組み合わせのどれが、合理的期待均衡を満たすだろうか。\n",
    "(このどれも満たさない場合もある。)\n",
    "\n",
    "- (94.0886298678, 0.923409232937)\n",
    "- (93.2119845412, 0.984323478873)\n",
    "- (95.0818452486, 0.952459076301)\n",
    "\n",
    "\n",
    "Describe an iterative algorithm that uses the program that you wrote for exercise 1 to compute a rational expectations equilibrium"
   ]
  },
  {
   "cell_type": "markdown",
   "metadata": {},
   "source": [
    "#### 考え方\n",
    "\n",
    "合理的期待均衡では、PLMとALMが等しくなる。つまり、\n",
    "\n",
    "\\begin{equation}\n",
    "y_{t+1} = h_0 + h_1 y_t + h_2 Y_t\n",
    "\\end{equation}\n",
    "\n",
    "をn企業分足し合わせた式、\n",
    "\n",
    "\\begin{eqnarray}\n",
    "ny_{t+1} &=& nh_0 + nh_1 y_t + nh_2 Y_t \\\\\n",
    "\\Rightarrow　Y_{t+1} &=& nh_0 + (h_1+nh_2)Y_t\n",
    "\\end{eqnarray}\n",
    "と、信念関数、\n",
    "\n",
    "\n",
    "\\begin{equation}\n",
    "Y_{t+1}\n",
    "= \\kappa_0 + \\kappa_1 Y_t\n",
    "\\end{equation}\n",
    "\n",
    "等しくなる。\n",
    "\n",
    "つまり、$\\kappa_0=nh_0$, $\\kappa_1=h_1+nh_2$である。\n",
    "\n",
    "問題に答えるためには、各、$(\\kappa_0=nh_0, \\kappa_1)$の組でこれが成立するかどうかを調べればよい。"
   ]
  },
  {
   "cell_type": "code",
   "execution_count": 29,
   "metadata": {
    "collapsed": false
   },
   "outputs": [],
   "source": [
    "def f(kappa0, kappa1):\n",
    "\n",
    "    import numpy as np\n",
    "    import matplotlib.pyplot as plt\n",
    "    from quantecon import LQ\n",
    "\n",
    "\n",
    "    # == Model parameters == #\n",
    "\n",
    "    a0      = 100\n",
    "    a1      = 0.05\n",
    "    beta    = 0.95\n",
    "    gamma   = 10.0\n",
    "    n = 1\n",
    "\n",
    "    # == Formulate the LQ problem == #\n",
    "\n",
    "    A = np.array([[1, 0, 0], [0, kappa1, kappa0], [0, 0, 1]])\n",
    "    B = np.array([1, 0, 0])\n",
    "    B.shape = 3, 1\n",
    "    R = np.array([[0, a1/2, -a0/2], [a1/2, 0, 0], [-a0/2, 0, 0]])\n",
    "    Q = 0.5 * gamma\n",
    "\n",
    "    # == Solve for the optimal policy == #\n",
    "\n",
    "    lq = LQ(Q, R, A, B, beta=beta)\n",
    "    P, F, d = lq.stationary_values()\n",
    "    F = F.flatten()\n",
    "    h0, h1, h2 = -F[2], 1 - F[0], -F[1]   \n",
    "    Can_kappa0 = n*h0\n",
    "    Can_kappa1 = h1+n*h2 \n",
    "    print Can_kappa0, Can_kappa1\n",
    "    if Can_kappa0 == kappa0 and Can_kappa1 == kappa1:\n",
    "        print \"YES\"\n",
    "        ##print \"This is the correct pair;\" +\"kappa0:\" + kappa0 + \"kappa1:\"+ kappa1\n",
    "    else:\n",
    "        print \"NO\""
   ]
  },
  {
   "cell_type": "code",
   "execution_count": 30,
   "metadata": {
    "collapsed": false
   },
   "outputs": [
    {
     "name": "stdout",
     "output_type": "stream",
     "text": [
      "117.188576301 0.964270528223\n",
      "NO\n",
      "53.541828217 0.927949725011\n",
      "NO\n",
      "95.0818910013 0.952459055572\n",
      "NO\n"
     ]
    }
   ],
   "source": [
    "Pair = [[94.0886298678, 0.923409232937],[93.2119845412, 0.984323478873],[95.0818452486, 0.952459076301]]\n",
    "\n",
    "\n",
    "for kappa0 , kappa1 in Pair:\n",
    "    f(kappa0, kappa1)"
   ]
  },
  {
   "cell_type": "code",
   "execution_count": 31,
   "metadata": {
    "collapsed": false
   },
   "outputs": [
    {
     "name": "stdout",
     "output_type": "stream",
     "text": [
      "95.0818910013 0.952459055572\n",
      "NO\n"
     ]
    }
   ],
   "source": [
    "f(95.0818452486, 0.952459076301)"
   ]
  },
  {
   "cell_type": "markdown",
   "metadata": {},
   "source": [
    "### Exercise3\n",
    "\n",
    "A Planning Problem Approach のpallaner's problem（（生産）計画問題）を計算する。\n",
    "\n",
    "1. LQ問題として計画問題を定義せよ\n",
    "2. その問題を次のパラメタで計算せよ、$a_0= 100, a_1= 0.05, \\beta = 0.95, \\gamma=10$\n",
    "\n",
    "3. 得られた結果をもとに、$Y_{t+1} = \\kappa_0 + \\kappa_1 Y_t$を再現せよ。\n",
    "\n",
    "4. この計算結果をExcercise2と比べよ"
   ]
  },
  {
   "cell_type": "code",
   "execution_count": 5,
   "metadata": {
    "collapsed": false
   },
   "outputs": [
    {
     "name": "stdout",
     "output_type": "stream",
     "text": [
      "Y_t+1 = 0.952Y_t + 95.082\n"
     ]
    }
   ],
   "source": [
    "\n",
    "\n",
    "import numpy as np\n",
    "import matplotlib.pyplot as plt\n",
    "from quantecon import LQ\n",
    "\n",
    "\n",
    "# == Model parameters == #\n",
    "\n",
    "a0      = 100\n",
    "a1      = 0.05\n",
    "beta    = 0.95\n",
    "gamma   = 10.0\n",
    "\n",
    "\n",
    "# == Formulate the LQ problem == #\n",
    "A = np.array([[1, 0], [0, 1]])\n",
    "B = np.array([1, 0])\n",
    "B.shape = 2, 1\n",
    "R = np.array([[a1/2, -a0/2], [-a0/2, 0]])\n",
    "Q = 0.5 * gamma\n",
    "\n",
    "# == Solve for the optimal policy == #\n",
    "\n",
    "lq = LQ(Q, R, A, B, beta=beta)\n",
    "P, F, d = lq.stationary_values()\n",
    "\n",
    "F = F.flatten()\n",
    "\n",
    "kappa1 =1-F[0]\n",
    "kappa0 = - F[1]\n",
    "\n",
    "output = \"Y_t+1 = {0:.3f}Y_t + {1:.3f}\".format(kappa1,kappa0)\n",
    "\n",
    "print (output)"
   ]
  },
  {
   "cell_type": "markdown",
   "metadata": {},
   "source": [
    "### Exercise4\n",
    "\n",
    "独占的生産者は、逆需要曲線、\n",
    "\n",
    "\\begin{equation}\n",
    "p_t = a_0 - a_1 Y_t\n",
    "\\end{equation}\n",
    "\n",
    "に直面している。この企業は、$\\sum_{t=0}^{\\infty} \\beta^t r_t$を最大化する。\n",
    "\n",
    "ただし、\n",
    "\n",
    "\\begin{equation}\n",
    "r_t = p_t Y_t - \\frac{\\gamma (Y_{t+1} - Y_t)^2 }{2}\n",
    "\\end{equation}\n",
    "\n",
    "である。これを、LQ問題として記述しなさい。\n",
    "\n",
    "\n",
    "optimal policy を計算したあと、結果をExercise3と比べよ。\n",
    "パラメータはExercise3と同じとする。"
   ]
  },
  {
   "cell_type": "code",
   "execution_count": 6,
   "metadata": {
    "collapsed": false
   },
   "outputs": [
    {
     "name": "stdout",
     "output_type": "stream",
     "text": [
      "Y_t+1 = 0.927Y_t + 73.473\n"
     ]
    }
   ],
   "source": [
    "\n",
    "\n",
    "import numpy as np\n",
    "import matplotlib.pyplot as plt\n",
    "from quantecon import LQ\n",
    "\n",
    "\n",
    "# == Model parameters == #\n",
    "\n",
    "a0      = 100\n",
    "a1      = 0.05\n",
    "beta    = 0.95\n",
    "gamma   = 10.0\n",
    "\n",
    "\n",
    "# == Formulate the LQ problem == #\n",
    "A = np.array([[1, 0], [0, 1]])\n",
    "B = np.array([1, 0])\n",
    "B.shape = 2, 1\n",
    "R = np.array([[a1, -a0/2], [-a0/2, 0]])\n",
    "Q = 0.5 * gamma\n",
    "\n",
    "# == Solve for the optimal policy == #\n",
    "\n",
    "lq = LQ(Q, R, A, B, beta=beta)\n",
    "P, F, d = lq.stationary_values()\n",
    "\n",
    "F = F.flatten()\n",
    "\n",
    "kappa1 =1-F[0]\n",
    "kappa0 = - F[1]\n",
    "\n",
    "output = \"Y_t+1 = {0:.3f}Y_t + {1:.3f}\".format(kappa1,kappa0)\n",
    "\n",
    "print (output)"
   ]
  },
  {
   "cell_type": "code",
   "execution_count": null,
   "metadata": {
    "collapsed": true
   },
   "outputs": [],
   "source": []
  }
 ],
 "metadata": {
  "kernelspec": {
   "display_name": "Python 2",
   "language": "python",
   "name": "python2"
  },
  "language_info": {
   "codemirror_mode": {
    "name": "ipython",
    "version": 2
   },
   "file_extension": ".py",
   "mimetype": "text/x-python",
   "name": "python",
   "nbconvert_exporter": "python",
   "pygments_lexer": "ipython2",
   "version": "2.7.11"
  }
 },
 "nbformat": 4,
 "nbformat_minor": 0
}
